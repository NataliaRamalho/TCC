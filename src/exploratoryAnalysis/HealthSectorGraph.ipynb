{
 "cells": [
  {
   "cell_type": "code",
   "execution_count": null,
   "metadata": {},
   "outputs": [],
   "source": [
    "from matplotlib import pyplot as plt\n",
    "import seaborn as sns\n",
    "import import_ipynb\n",
    "import import_ipynb\n",
    "import os\n",
    "os.chdir('../')\n",
    "import Functions"
   ]
  },
  {
   "cell_type": "code",
   "execution_count": null,
   "metadata": {},
   "outputs": [],
   "source": [
    "df = Functions.importFiles(\"./selectDatabase/allData\")\n",
    "df = Functions.sortDatabase(df)"
   ]
  },
  {
   "cell_type": "code",
   "execution_count": null,
   "metadata": {},
   "outputs": [],
   "source": [
    "# Year\n",
    "dfClenYear = df\n",
    "dfClenYear = Functions.removeNClass('Data_Acidente_Completa', dfClenYear)\n",
    "dfClenYear['Ano_Acidente'] = dfClenYear['Data_Acidente_Completa'].apply(Functions.separateDateYear)\n",
    "dfClenYear['Ano_Acidente'].value_counts()"
   ]
  },
  {
   "cell_type": "code",
   "execution_count": null,
   "metadata": {},
   "outputs": [],
   "source": [
    "df = Functions.cleanCBODescription(df)\n",
    "df = Functions.removeNClass('CBO', df)"
   ]
  },
  {
   "cell_type": "code",
   "execution_count": null,
   "metadata": {},
   "outputs": [],
   "source": [
    "df['Profissoes'] = df['CBO'].apply(Functions.groupsHealthProfessions) \n",
    "dfQuantRegionsEmployer = df['CBO'].value_counts()\n",
    "dfQuantRegionsEmployer\n",
    "df['Profissoes'].value_counts()"
   ]
  },
  {
   "cell_type": "code",
   "execution_count": null,
   "metadata": {},
   "outputs": [],
   "source": [
    "dfHealthProfessions = Functions.cleanHealthProfessions(df)"
   ]
  },
  {
   "cell_type": "code",
   "execution_count": null,
   "metadata": {},
   "outputs": [],
   "source": [
    "# Year x occurrence\n",
    "dfClenYear = dfHealthProfessions\n",
    "dfClenYear = Functions.removeNClass('Data_Acidente_Completa', dfClenYear)\n",
    "dfClenYear['Ano_Acidente'] = dfClenYear['Data_Acidente_Completa'].apply(Functions.separateDateYear)\n",
    "dfClenYear['Ano_Acidente'].value_counts()"
   ]
  },
  {
   "cell_type": "code",
   "execution_count": null,
   "metadata": {},
   "outputs": [],
   "source": [
    "Functions.sizeDf(dfClenYear)"
   ]
  },
  {
   "cell_type": "code",
   "execution_count": null,
   "metadata": {},
   "outputs": [],
   "source": [
    "# occurrence X Profession\n",
    "dfQuantHealthProfessions = dfHealthProfessions['Profissoes'].value_counts()"
   ]
  },
  {
   "cell_type": "code",
   "execution_count": null,
   "metadata": {},
   "outputs": [],
   "source": [
    "\n",
    "dfQuantHealthProfessions.plot(\n",
    "        kind='bar', \n",
    "        stacked=True, \n",
    "        title=\"Ocorrências por Profissão\", \n",
    "        xlabel=\"Profissão\", \n",
    "        ylabel = \"Quantidade de ocorrências\"\n",
    ")"
   ]
  },
  {
   "cell_type": "code",
   "execution_count": null,
   "metadata": {},
   "outputs": [],
   "source": [
    "# occurrence X Accident Region\n",
    "dfCleanUFAccident = dfHealthProfessions\n",
    "dfCleanUFAccident = Functions.removeNClass('UF_Munic_Acidente', dfCleanUFAccident)\n",
    "dfCleanUFAccident = Functions.cleanUF('UF_Munic_Acidente', dfCleanUFAccident)\n",
    "dfCleanUFAccident['UF_Munic_Acidente'] = dfCleanUFAccident['UF_Munic_Acidente'].apply(Functions.groupsRegions) \n",
    "dfQuantRegions = dfCleanUFAccident['UF_Munic_Acidente'].value_counts()\n"
   ]
  },
  {
   "cell_type": "code",
   "execution_count": null,
   "metadata": {},
   "outputs": [],
   "source": [
    "dfQuantRegions.plot(kind='bar', stacked=True, \n",
    "        title=\"Ocorrencias X Região do acidente\", \n",
    "        xlabel=\"Região do acidente\", \n",
    "        ylabel = \"Quantidade de ocorrências\", \n",
    ")"
   ]
  },
  {
   "cell_type": "code",
   "execution_count": null,
   "metadata": {},
   "outputs": [],
   "source": [
    "# occurrence X Employer region\n",
    "dfCleanUFEmployer = dfHealthProfessions\n",
    "dfCleanUFEmployer = Functions.removeNClass('UF_Munic_Empregador', dfCleanUFEmployer)\n",
    "dfCleanUFEmployer = Functions.cleanUF('UF_Munic_Empregador', dfCleanUFEmployer)"
   ]
  },
  {
   "cell_type": "code",
   "execution_count": null,
   "metadata": {},
   "outputs": [],
   "source": [
    "dfCleanUFEmployer['UF_Munic_Empregador'] = dfCleanUFEmployer['UF_Munic_Empregador'].apply(Functions.groupsRegions) \n",
    "dfQuantRegionsEmployer = dfCleanUFEmployer['UF_Munic_Empregador'].value_counts()\n",
    "dfQuantRegionsEmployer"
   ]
  },
  {
   "cell_type": "code",
   "execution_count": null,
   "metadata": {},
   "outputs": [],
   "source": [
    "dfQuantRegionsEmployer.plot(kind='bar', stacked=True, \n",
    "        title=\"Ocorrencias X Região do empregador\", \n",
    "        xlabel=\"Região do empregador\", \n",
    "        ylabel = \"Quantidade de ocorrências\", \n",
    ")"
   ]
  },
  {
   "cell_type": "code",
   "execution_count": null,
   "metadata": {},
   "outputs": [],
   "source": [
    "# Age X Genre\n",
    "dfCleanAge = dfHealthProfessions\n",
    "dfCleanAge =  Functions.removeNClass('Data_Nascimento',dfCleanAge)\n",
    "dfCleanAge =  Functions.removeNClass('Data_Acidente_Completa', dfCleanAge)\n",
    "dfCleanAge['Idade'] = dfCleanAge['Data_Nascimento'].apply(Functions.createColumnAge) - dfCleanAge['Data_Acidente_Completa'].apply(Functions.createColumnAge)\n",
    "dfCleanAge = Functions.cleanAge(dfCleanAge)\n",
    "dfQuantAge = dfCleanAge['Idade'].value_counts()"
   ]
  },
  {
   "cell_type": "code",
   "execution_count": null,
   "metadata": {},
   "outputs": [],
   "source": [
    "dfCleanAge = Functions.cleanGenre(dfCleanAge)\n",
    "dfAgeGenre = Functions.createDFForAgeAndGenre(6, 16, 'Idade', 10, dfCleanAge)\n",
    "dfAgeGenre"
   ]
  },
  {
   "cell_type": "code",
   "execution_count": null,
   "metadata": {},
   "outputs": [],
   "source": [
    "dfAgeGenre.plot(\n",
    "        kind='bar', \n",
    "        stacked=True, \n",
    "        title=\"Ocorrências X Idade e Gênero\", \n",
    "        xlabel=\"Idades\", \n",
    "        ylabel = \"Quantidade de ocorrências\", \n",
    ")"
   ]
  },
  {
   "cell_type": "code",
   "execution_count": null,
   "metadata": {},
   "outputs": [],
   "source": [
    "# HealthProfessions X Genre\n",
    "dfClenGenre = dfHealthProfessions\n",
    "dfClenGenre = Functions.cleanGenre(dfClenGenre)\n",
    "dfGraphHealthProfessionsGenre = Functions.createDfWithHealthProfessionsAndGenre(dfClenGenre)\n",
    "dfGraphHealthProfessionsGenre\n",
    "# dfGraphHealthProfessionsGenre.plot(kind='bar', stacked=True, \n",
    "#         title=\"Ocorrências relacionadas com gênero e CBO\", \n",
    "#         xlabel=\"CBO\", \n",
    "#         ylabel = \"Quantidade de ocorrências\", \n",
    "# )"
   ]
  },
  {
   "cell_type": "code",
   "execution_count": null,
   "metadata": {},
   "outputs": [],
   "source": [
    "#Accident_Causing_Agent\n",
    "dfCleanAccidentCausingAgent = dfHealthProfessions\n",
    "dfCleanAccidentCausingAgent = Functions.removeNClass('Agente_Causador_Acidente', dfCleanAccidentCausingAgent)"
   ]
  },
  {
   "cell_type": "code",
   "execution_count": null,
   "metadata": {},
   "outputs": [],
   "source": [
    "dfCleanAccidentCausingAgent['Agente_Causador_Acidente'] = dfCleanAccidentCausingAgent['Agente_Causador_Acidente'].apply(Functions.groupsAccidentCausingAgent)\n",
    "dfQuantAccidentCausingAgent = dfCleanAccidentCausingAgent['Agente_Causador_Acidente'].value_counts()\n",
    "# dfQuantAccidentCausingAgent\n",
    "dfQuantAccidentCausingAgent.plot(\n",
    "        kind='bar',  \n",
    "        title=\"Ocorrências por agente causador\", \n",
    "        xlabel=\"Agente causador\", \n",
    "        ylabel = \"Quantidade de ocorrências\", \n",
    "        figsize=(12, 8),\n",
    ")"
   ]
  },
  {
   "cell_type": "code",
   "execution_count": null,
   "metadata": {},
   "outputs": [],
   "source": [
    "# Body Part\n",
    "dfCleanBodyPart = dfHealthProfessions\n",
    "dfCleanBodyPart = Functions.removeNClass('Parte_Corpo_Atingida', dfCleanBodyPart)\n",
    "dfCleanBodyPart['Parte_Corpo_Atingida'] = dfCleanBodyPart['Parte_Corpo_Atingida'].apply(Functions.groupsPartBody) \n",
    "dfQuantBodyPart = dfCleanBodyPart['Parte_Corpo_Atingida'].value_counts()\n",
    "dfQuantBodyPart"
   ]
  },
  {
   "cell_type": "code",
   "execution_count": null,
   "metadata": {},
   "outputs": [],
   "source": [
    "dfQuantBodyPart.plot(\n",
    "        kind='bar', \n",
    "        stacked=True, \n",
    "        title=\"Ocorrências por parte do corpo\", \n",
    "        xlabel=\"Parte do corpo\", \n",
    "        ylabel = \"Quantidade de ocorrências\", \n",
    ")"
   ]
  },
  {
   "cell_type": "code",
   "execution_count": null,
   "metadata": {},
   "outputs": [],
   "source": [
    "tableCBOBodyPart = Functions.createDfWhithBodyPartAndHealthProfessions(dfCleanBodyPart)\n",
    "tableCBOBodyPart "
   ]
  },
  {
   "cell_type": "code",
   "execution_count": null,
   "metadata": {},
   "outputs": [],
   "source": [
    "# Nature_Injury\n",
    "dfCleanNatureInjury = dfHealthProfessions\n",
    "dfCleanNatureInjury = Functions.removeNClass('Natureza_Lesao', dfCleanNatureInjury)\n",
    "dfCleanNatureInjury['Natureza_Lesao'] = dfCleanNatureInjury['Natureza_Lesao'].apply(Functions.groupsNatureInjury)\n",
    "dfQuantNatureInjury =dfCleanNatureInjury['Natureza_Lesao'].value_counts()\n",
    "# dfQuantNatureInjury"
   ]
  },
  {
   "cell_type": "code",
   "execution_count": null,
   "metadata": {},
   "outputs": [],
   "source": [
    "dfQuantNatureInjury.plot(\n",
    "        kind='bar', \n",
    "        stacked=True, \n",
    "        title=\"Ocorrências por natureza de lesão\", \n",
    "        xlabel=\"Natureza da Lesão\", \n",
    "        ylabel = \"Quantidade de ocorrências\", \n",
    "        figsize=(10, 8),\n",
    ")"
   ]
  },
  {
   "cell_type": "code",
   "execution_count": null,
   "metadata": {},
   "outputs": [],
   "source": [
    "# Accident Type\n",
    "dfClenAccidentType = dfHealthProfessions\n",
    "dfClenAccidentType = Functions.removeNClass('Tipo_Acidente', dfClenAccidentType)\n",
    "dfClenAccidentType['Tipo_Acidente'] = dfClenYear['Tipo_Acidente'].apply(Functions.groupsAccidentType)\n",
    "dfQuantAccidentType = dfClenAccidentType['Tipo_Acidente'].value_counts()\n",
    "dfQuantAccidentType"
   ]
  },
  {
   "cell_type": "code",
   "execution_count": null,
   "metadata": {},
   "outputs": [],
   "source": [
    "dfQuantAccidentType.plot(kind='bar', \n",
    "        title=\"Ocorrências por tipo do acidente\", \n",
    "        xlabel=\"Tipo do acidente\", \n",
    "        ylabel = \"Quantidade de ocorrências\", \n",
    ")"
   ]
  }
 ],
 "metadata": {
  "kernelspec": {
   "display_name": "base",
   "language": "python",
   "name": "python3"
  },
  "language_info": {
   "codemirror_mode": {
    "name": "ipython",
    "version": 3
   },
   "file_extension": ".py",
   "mimetype": "text/x-python",
   "name": "python",
   "nbconvert_exporter": "python",
   "pygments_lexer": "ipython3",
   "version": "3.9.13"
  },
  "orig_nbformat": 4,
  "vscode": {
   "interpreter": {
    "hash": "ad2bdc8ecc057115af97d19610ffacc2b4e99fae6737bb82f5d7fb13d2f2c186"
   }
  }
 },
 "nbformat": 4,
 "nbformat_minor": 2
}
