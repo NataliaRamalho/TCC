{
 "cells": [
  {
   "cell_type": "code",
   "execution_count": null,
   "metadata": {},
   "outputs": [],
   "source": [
    "import os\n",
    "import import_ipynb\n",
    "import FormatDatabase"
   ]
  },
  {
   "cell_type": "code",
   "execution_count": null,
   "metadata": {},
   "outputs": [],
   "source": [
    "\n",
    "diretorio = '../../database'\n",
    "\n",
    "files = os.listdir(diretorio)\n",
    "for index, file in enumerate(files):\n",
    "    file_name, type = os.path.splitext(file)\n",
    "    path = diretorio + '/' + file_name\n",
    "    isFirst = index == 0 \n",
    "    df = FormatDatabase.formatData(path)\n",
    "    df.to_csv('allData.csv',index=False, sep=\";\", mode='a',header=isFirst)\n",
    "    "
   ]
  }
 ],
 "metadata": {
  "kernelspec": {
   "display_name": "base",
   "language": "python",
   "name": "python3"
  },
  "language_info": {
   "codemirror_mode": {
    "name": "ipython",
    "version": 3
   },
   "file_extension": ".py",
   "mimetype": "text/x-python",
   "name": "python",
   "nbconvert_exporter": "python",
   "pygments_lexer": "ipython3",
   "version": "3.9.13"
  },
  "orig_nbformat": 4
 },
 "nbformat": 4,
 "nbformat_minor": 2
}
