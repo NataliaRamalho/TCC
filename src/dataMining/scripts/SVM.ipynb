{
 "cells": [
  {
   "cell_type": "code",
   "execution_count": null,
   "metadata": {},
   "outputs": [],
   "source": [
    "# Este script é do site: https://scikit-learn.org/stable/"
   ]
  },
  {
   "cell_type": "code",
   "execution_count": null,
   "metadata": {},
   "outputs": [],
   "source": [
    "#Start no cronometro do tempo computacional\n",
    "import time\n",
    "t1 = time.time()"
   ]
  },
  {
   "cell_type": "code",
   "execution_count": null,
   "metadata": {},
   "outputs": [],
   "source": [
    "#Importando bibliotecas e carregando dataset de treino\n",
    "fileName = 'numbers'\n",
    "import pandas as pd\n",
    "dataset = pd.read_csv(fileName+'.csv', sep = ';', encoding='ISO-8859-1')  \n",
    "import numpy as np\n",
    "\n",
    "from sklearn.metrics import accuracy_score, precision_score, recall_score, f1_score, roc_auc_score"
   ]
  },
  {
   "cell_type": "code",
   "execution_count": null,
   "metadata": {},
   "outputs": [],
   "source": [
    "#Separando as variáveis em preditoras e alvo\n",
    "\n",
    "#Informa qual é a variável alvo\n",
    "y = dataset['obito']\n",
    "\n",
    "#Informa quais são as demais variáveis excluindo a coluna de obito\n",
    "x = dataset.drop('obito', axis = 1)"
   ]
  },
  {
   "cell_type": "code",
   "execution_count": null,
   "metadata": {},
   "outputs": [],
   "source": [
    "#Separando o dataset em dados de treino e dados de teste\n",
    "from sklearn.model_selection import train_test_split\n",
    "x_treino, x_teste, y_treino, y_teste = train_test_split(x, y, test_size=0.3)"
   ]
  },
  {
   "cell_type": "code",
   "execution_count": null,
   "metadata": {},
   "outputs": [],
   "source": [
    "#Importando o modelo que será utilizado\n",
    "from sklearn.svm import SVC\n",
    "\n",
    "#Criando o modelo\n",
    "m1 = SVC()\n",
    "\n",
    "#Aplicar o modelo ao dataset de treino\n",
    "m1.fit(x_treino,y_treino)"
   ]
  },
  {
   "cell_type": "code",
   "execution_count": null,
   "metadata": {},
   "outputs": [],
   "source": [
    "#Prevendo novos valores com o dataset de teste\n",
    "y_pred = m1.predict(x_teste)"
   ]
  },
  {
   "cell_type": "code",
   "execution_count": null,
   "metadata": {},
   "outputs": [],
   "source": [
    "#Calculando e imprimindo métricas\n",
    "print(\"Métricas Modelo 1\")\n",
    "\n",
    "#Acurácia\n",
    "resultado = accuracy_score(y_teste,y_pred)\n",
    "print(\"Acurácia: {:.5f}\".format(resultado))\n",
    "\n",
    "#Precision\n",
    "precisao = precision_score(y_teste,y_pred)\n",
    "print(\"Precision: {:.5f}\".format(precisao))\n",
    "\n",
    "#Recall\n",
    "recall = recall_score(y_teste,y_pred)\n",
    "print(\"Recall: {:.5f}\".format(recall))\n",
    "\n",
    "#F1-score\n",
    "F1 = f1_score(y_teste,y_pred)\n",
    "print(\"F1 score: {:.5f}\".format(F1))\n",
    "\n",
    "#ROC/AUC\n",
    "ROC = roc_auc_score(y_teste, m1.decision_function(x_teste))\n",
    "print(\"ROC: {:.5f}\".format(ROC))"
   ]
  },
  {
   "cell_type": "code",
   "execution_count": null,
   "metadata": {},
   "outputs": [],
   "source": [
    "#Parar cronômetro\n",
    "tempoExec = time.time() - t1\n",
    "print(\"Tempo de execução: {:.4f} segundos\".format(tempoExec))"
   ]
  }
 ],
 "metadata": {
  "kernelspec": {
   "display_name": "base",
   "language": "python",
   "name": "python3"
  },
  "language_info": {
   "codemirror_mode": {
    "name": "ipython",
    "version": 3
   },
   "file_extension": ".py",
   "mimetype": "text/x-python",
   "name": "python",
   "nbconvert_exporter": "python",
   "pygments_lexer": "ipython3",
   "version": "3.9.13"
  },
  "vscode": {
   "interpreter": {
    "hash": "ad2bdc8ecc057115af97d19610ffacc2b4e99fae6737bb82f5d7fb13d2f2c186"
   }
  }
 },
 "nbformat": 4,
 "nbformat_minor": 2
}
