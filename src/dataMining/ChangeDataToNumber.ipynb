{
 "cells": [
  {
   "cell_type": "code",
   "execution_count": null,
   "metadata": {},
   "outputs": [],
   "source": [
    "import pandas as pd\n",
    "from datetime import datetime, date\n",
    "import import_ipynb\n",
    "import os\n",
    "os.chdir('../')"
   ]
  },
  {
   "cell_type": "code",
   "execution_count": null,
   "metadata": {},
   "outputs": [],
   "source": [
    "import Functions"
   ]
  },
  {
   "cell_type": "code",
   "execution_count": null,
   "metadata": {},
   "outputs": [],
   "source": [
    "df = Functions.importFiles(\"./selectDatabase/allData\")\n",
    "df = Functions.sortDatabase(df)\n",
    "Functions.sizeDf(df)"
   ]
  },
  {
   "cell_type": "code",
   "execution_count": null,
   "metadata": {},
   "outputs": [],
   "source": [
    "# Only HealthProfessions\n",
    "df = Functions.cleanCBODescription(df)\n",
    "df = Functions.removeNClass('CBO', df)\n",
    "df['Profissoes'] = df['CBO'].apply(Functions.groupsHealthProfessions) \n",
    "df = Functions.cleanHealthProfessions(df)"
   ]
  },
  {
   "cell_type": "code",
   "execution_count": null,
   "metadata": {},
   "outputs": [],
   "source": [
    "df =  Functions.removeNClass('Data_Nascimento',df)\n",
    "df =  Functions.removeNClass('Data_Acidente_Completa', df)\n",
    "df['Idade'] = df['Data_Nascimento'].apply(Functions.createColumnAge) - df['Data_Acidente_Completa'].apply(Functions.createColumnAge)\n",
    "df = Functions.cleanAge(df)"
   ]
  },
  {
   "cell_type": "code",
   "execution_count": null,
   "metadata": {},
   "outputs": [],
   "source": [
    "# Remove columns\n",
    "df = df.drop(columns=['CBO_Descricao', 'CBO','CID-10_Descricao','CNAE_Descricao','Emitente_CAT','Especie_beneficio','Filiacao_Segurado',\n",
    "'Munic_Empregador','Origem_de_Cadastramento_CAT','UF_Munic_Acidente', 'UF_Munic_Empregador','Data_Afastamento', 'Data_Despacho_Beneficio', 'Data_Acidente_Completa', 'Data_Nascimento', 'Data_Emississao_CAT','CID-10','CNAE','Data_Acidente'])\n",
    "Functions.sizeDf(df)"
   ]
  },
  {
   "cell_type": "code",
   "execution_count": null,
   "metadata": {},
   "outputs": [],
   "source": [
    "# CLEAN\n",
    "df = Functions.removeNClass('Agente_Causador_Acidente', df)\n",
    "df = Functions.removeNClass('obito', df)\n",
    "df = Functions.removeNClass('Natureza_Lesao', df)\n",
    "df = Functions.removeNClass('Parte_Corpo_Atingida', df)\n",
    "df = Functions.cleanGenre(df)\n",
    "df = Functions.removeNClass('Tipo_Acidente', df)\n",
    "Functions.sizeDf(df)"
   ]
  },
  {
   "cell_type": "code",
   "execution_count": null,
   "metadata": {},
   "outputs": [],
   "source": [
    "# Group\n",
    "df['Agente_Causador_Acidente'] = df['Agente_Causador_Acidente'].apply(Functions.groupsAccidentCausingAgent)\n",
    "df['Natureza_Lesao'] = df['Natureza_Lesao'].apply(Functions.groupsNatureInjury)\n",
    "df['Parte_Corpo_Atingida'] = df['Parte_Corpo_Atingida'].apply(Functions.groupsPartBody)\n",
    "df['Tipo_Acidente'] = df['Tipo_Acidente'].apply(Functions.groupsAccidentType)"
   ]
  },
  {
   "cell_type": "code",
   "execution_count": null,
   "metadata": {},
   "outputs": [],
   "source": [
    "# CHANGE FOR NUMBERS\n",
    "df['Agente_Causador_Acidente'] = df['Agente_Causador_Acidente'].apply(Functions.changeAccidentCausingAgentToNumber) \n",
    "df['obito'] = df['obito'].apply(Functions.changeAccidentIndicatorToNumber) \n",
    "df['Natureza_Lesao'] = df['Natureza_Lesao'].apply(Functions.changeNatureInjuryToNumber) \n",
    "df['Parte_Corpo_Atingida'] = df['Parte_Corpo_Atingida'].apply(Functions.changePartBodyToNumber) \n",
    "df['Genero'] = df['Genero'].apply(Functions.changeGenreToNumber) \n",
    "df['Tipo_Acidente'] = df['Tipo_Acidente'].apply(Functions.changeAccidentTypeToNumber)\n",
    "df['Profissoes'] = df['Profissoes'].apply(Functions.changeHealthProfessionsToNumber)\n",
    "df['Idade'] = df['Idade'].apply(Functions.changeAgeToNumber)"
   ]
  },
  {
   "cell_type": "code",
   "execution_count": null,
   "metadata": {},
   "outputs": [],
   "source": [
    "# df = df['Idade'].value_counts()\n",
    "df.head()"
   ]
  },
  {
   "cell_type": "code",
   "execution_count": null,
   "metadata": {},
   "outputs": [],
   "source": [
    "df.to_csv('databaseToNumbers.csv',index=False, sep=\";\", mode='a')"
   ]
  }
 ],
 "metadata": {
  "kernelspec": {
   "display_name": "base",
   "language": "python",
   "name": "python3"
  },
  "language_info": {
   "codemirror_mode": {
    "name": "ipython",
    "version": 3
   },
   "file_extension": ".py",
   "mimetype": "text/x-python",
   "name": "python",
   "nbconvert_exporter": "python",
   "pygments_lexer": "ipython3",
   "version": "3.9.13"
  },
  "orig_nbformat": 4,
  "vscode": {
   "interpreter": {
    "hash": "ad2bdc8ecc057115af97d19610ffacc2b4e99fae6737bb82f5d7fb13d2f2c186"
   }
  }
 },
 "nbformat": 4,
 "nbformat_minor": 2
}
